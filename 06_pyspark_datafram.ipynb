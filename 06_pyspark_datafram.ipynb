{
 "cells": [
  {
   "cell_type": "markdown",
   "metadata": {},
   "source": [
    "# PySpark Dataframe"
   ]
  },
  {
   "cell_type": "markdown",
   "metadata": {},
   "source": [
    "### RDD to Dataframe"
   ]
  },
  {
   "cell_type": "code",
   "execution_count": 2,
   "metadata": {},
   "outputs": [],
   "source": [
    "from pyspark.sql import SparkSession\n",
    "spark = SparkSession.builder.getOrCreate()\n",
    "sc = spark.sparkContext"
   ]
  },
  {
   "cell_type": "code",
   "execution_count": 3,
   "metadata": {},
   "outputs": [],
   "source": [
    "sample_list = [('Mona',20), ('Jennifer',34),('John',20), ('Jim',26)]"
   ]
  },
  {
   "cell_type": "code",
   "execution_count": 4,
   "metadata": {},
   "outputs": [
    {
     "name": "stdout",
     "output_type": "stream",
     "text": [
      "The type of names_df is <class 'pyspark.sql.dataframe.DataFrame'>\n"
     ]
    }
   ],
   "source": [
    "rdd = sc.parallelize(sample_list)\n",
    "names_df = spark.createDataFrame(rdd, schema=['Name', 'Age'])\n",
    "\n",
    "print(\"The type of names_df is\", type(names_df))"
   ]
  },
  {
   "cell_type": "code",
   "execution_count": 5,
   "metadata": {},
   "outputs": [
    {
     "name": "stdout",
     "output_type": "stream",
     "text": [
      "The type of people_df is <class 'pyspark.sql.dataframe.DataFrame'>\n"
     ]
    }
   ],
   "source": [
    "people_df = spark.read.csv('people.csv', header=True, inferSchema=True)\n",
    "\n",
    "print(\"The type of people_df is\", type(people_df))"
   ]
  },
  {
   "cell_type": "code",
   "execution_count": 6,
   "metadata": {},
   "outputs": [
    {
     "name": "stdout",
     "output_type": "stream",
     "text": [
      "+---+---------+----------------+------+-------------------+\n",
      "|_c0|person_id|            name|   sex|      date of birth|\n",
      "+---+---------+----------------+------+-------------------+\n",
      "|  0|      100|  Penelope Lewis|female|1990-08-31 00:00:00|\n",
      "|  1|      101|   David Anthony|  male|1971-10-14 00:00:00|\n",
      "|  2|      102|       Ida Shipp|female|1962-05-24 00:00:00|\n",
      "|  3|      103|    Joanna Moore|female|2017-03-10 00:00:00|\n",
      "|  4|      104|  Lisandra Ortiz|female|2020-08-05 00:00:00|\n",
      "|  5|      105|   David Simmons|  male|1999-12-30 00:00:00|\n",
      "|  6|      106|   Edward Hudson|  male|1983-05-09 00:00:00|\n",
      "|  7|      107|    Albert Jones|  male|1990-09-13 00:00:00|\n",
      "|  8|      108|Leonard Cavender|  male|1958-08-08 00:00:00|\n",
      "|  9|      109|  Everett Vadala|  male|2005-05-24 00:00:00|\n",
      "+---+---------+----------------+------+-------------------+\n",
      "only showing top 10 rows\n",
      "\n",
      "There are 100000 rows in the people_df DataFrame.\n",
      "There are 5 columns in the people_df DataFrame and their names are ['_c0', 'person_id', 'name', 'sex', 'date of birth']\n"
     ]
    }
   ],
   "source": [
    "people_df.show(10)\n",
    "\n",
    "print(\"There are {} rows in the people_df DataFrame.\".format(people_df.count()))\n",
    "\n",
    "print(\"There are {} columns in the people_df DataFrame and their names are {}\".format(len(people_df.columns), people_df.columns))"
   ]
  },
  {
   "cell_type": "code",
   "execution_count": 7,
   "metadata": {},
   "outputs": [
    {
     "name": "stdout",
     "output_type": "stream",
     "text": [
      "+----------------+------+-------------------+\n",
      "|            name|   sex|      date of birth|\n",
      "+----------------+------+-------------------+\n",
      "|  Penelope Lewis|female|1990-08-31 00:00:00|\n",
      "|   David Anthony|  male|1971-10-14 00:00:00|\n",
      "|       Ida Shipp|female|1962-05-24 00:00:00|\n",
      "|    Joanna Moore|female|2017-03-10 00:00:00|\n",
      "|  Lisandra Ortiz|female|2020-08-05 00:00:00|\n",
      "|   David Simmons|  male|1999-12-30 00:00:00|\n",
      "|   Edward Hudson|  male|1983-05-09 00:00:00|\n",
      "|    Albert Jones|  male|1990-09-13 00:00:00|\n",
      "|Leonard Cavender|  male|1958-08-08 00:00:00|\n",
      "|  Everett Vadala|  male|2005-05-24 00:00:00|\n",
      "+----------------+------+-------------------+\n",
      "only showing top 10 rows\n",
      "\n"
     ]
    }
   ],
   "source": [
    "people_df_sub = people_df.select('name', 'sex', 'date of birth')\n",
    "\n",
    "people_df_sub.show(10)\n",
    "\n",
    "\n",
    "people_df_sub_nodup = people_df_sub.dropDuplicates()"
   ]
  },
  {
   "cell_type": "code",
   "execution_count": 8,
   "metadata": {},
   "outputs": [
    {
     "name": "stdout",
     "output_type": "stream",
     "text": [
      "There were 100000 rows before removing duplicates, and 99998 rows after removing duplicates\n"
     ]
    }
   ],
   "source": [
    "# QUIZ\n",
    "# Berapakah jumlah data sebelum dan sesudah di remove duplicate?\n",
    "# Tuliskan source code dan hasilnya di classroom ya\n",
    "\n",
    "print(\"There were {} rows before removing duplicates, and {} rows after removing duplicates\"\n",
    "    .format(people_df_sub.count(), people_df_sub_nodup.count()))"
   ]
  },
  {
   "cell_type": "code",
   "execution_count": 9,
   "metadata": {},
   "outputs": [
    {
     "name": "stdout",
     "output_type": "stream",
     "text": [
      "100000\n",
      "99998\n"
     ]
    }
   ],
   "source": [
    "print(people_df.count())\n",
    "print(people_df_sub_nodup.count())"
   ]
  },
  {
   "cell_type": "code",
   "execution_count": null,
   "metadata": {},
   "outputs": [],
   "source": []
  }
 ],
 "metadata": {
  "kernelspec": {
   "display_name": "Python 3.7.6 ('base')",
   "language": "python",
   "name": "python3"
  },
  "language_info": {
   "codemirror_mode": {
    "name": "ipython",
    "version": 3
   },
   "file_extension": ".py",
   "mimetype": "text/x-python",
   "name": "python",
   "nbconvert_exporter": "python",
   "pygments_lexer": "ipython3",
   "version": "3.7.6"
  },
  "orig_nbformat": 4,
  "vscode": {
   "interpreter": {
    "hash": "5bc067213193d7d391907c464a8e66c6ece1a82666c1d2406921e2c8deb6cf3c"
   }
  }
 },
 "nbformat": 4,
 "nbformat_minor": 2
}
