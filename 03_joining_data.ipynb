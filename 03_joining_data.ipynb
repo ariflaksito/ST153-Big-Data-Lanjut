{
 "cells": [
  {
   "cell_type": "markdown",
   "metadata": {},
   "source": [
    "# Joining Data"
   ]
  },
  {
   "cell_type": "code",
   "execution_count": 1,
   "metadata": {},
   "outputs": [],
   "source": [
    "from pyspark.sql import SparkSession\n",
    "\n",
    "spark = SparkSession.builder.getOrCreate()\n",
    "airports = spark.read.csv(\"airports.csv\", header=True, inferSchema=True)\n",
    "flights = spark.read.csv(\"flights_small.csv\", header=True, inferSchema=True)\n",
    "planes = spark.read.csv(\"planes.csv\", header=True, inferSchema=True)"
   ]
  },
  {
   "cell_type": "code",
   "execution_count": 2,
   "metadata": {},
   "outputs": [
    {
     "name": "stdout",
     "output_type": "stream",
     "text": [
      "+---+--------------------+----------+-----------+----+---+---+\n",
      "|faa|                name|       lat|        lon| alt| tz|dst|\n",
      "+---+--------------------+----------+-----------+----+---+---+\n",
      "|04G|   Lansdowne Airport|41.1304722|-80.6195833|1044| -5|  A|\n",
      "|06A|Moton Field Munic...|32.4605722|-85.6800278| 264| -5|  A|\n",
      "|06C| Schaumburg Regional|41.9893408|-88.1012428| 801| -6|  A|\n",
      "|06N|     Randall Airport| 41.431912|-74.3915611| 523| -5|  A|\n",
      "|09J|Jekyll Island Air...|31.0744722|-81.4277778|  11| -4|  A|\n",
      "+---+--------------------+----------+-----------+----+---+---+\n",
      "only showing top 5 rows\n",
      "\n"
     ]
    }
   ],
   "source": [
    "airports.show(5)"
   ]
  },
  {
   "cell_type": "code",
   "execution_count": 3,
   "metadata": {},
   "outputs": [
    {
     "name": "stdout",
     "output_type": "stream",
     "text": [
      "root\n",
      " |-- faa: string (nullable = true)\n",
      " |-- name: string (nullable = true)\n",
      " |-- lat: double (nullable = true)\n",
      " |-- lon: double (nullable = true)\n",
      " |-- alt: integer (nullable = true)\n",
      " |-- tz: integer (nullable = true)\n",
      " |-- dst: string (nullable = true)\n",
      "\n"
     ]
    }
   ],
   "source": [
    "airports.printSchema()"
   ]
  },
  {
   "cell_type": "code",
   "execution_count": 4,
   "metadata": {},
   "outputs": [
    {
     "name": "stdout",
     "output_type": "stream",
     "text": [
      "+----+-----+---+--------+---------+--------+---------+-------+-------+------+------+----+--------+--------+----+------+\n",
      "|year|month|day|dep_time|dep_delay|arr_time|arr_delay|carrier|tailnum|flight|origin|dest|air_time|distance|hour|minute|\n",
      "+----+-----+---+--------+---------+--------+---------+-------+-------+------+------+----+--------+--------+----+------+\n",
      "|2014|   12|  8|     658|       -7|     935|       -5|     VX| N846VA|  1780|   SEA| LAX|     132|     954|   6|    58|\n",
      "|2014|    1| 22|    1040|        5|    1505|        5|     AS| N559AS|   851|   SEA| HNL|     360|    2677|  10|    40|\n",
      "|2014|    3|  9|    1443|       -2|    1652|        2|     VX| N847VA|   755|   SEA| SFO|     111|     679|  14|    43|\n",
      "|2014|    4|  9|    1705|       45|    1839|       34|     WN| N360SW|   344|   PDX| SJC|      83|     569|  17|     5|\n",
      "|2014|    3|  9|     754|       -1|    1015|        1|     AS| N612AS|   522|   SEA| BUR|     127|     937|   7|    54|\n",
      "+----+-----+---+--------+---------+--------+---------+-------+-------+------+------+----+--------+--------+----+------+\n",
      "only showing top 5 rows\n",
      "\n"
     ]
    }
   ],
   "source": [
    "flights.show(5)"
   ]
  },
  {
   "cell_type": "code",
   "execution_count": 5,
   "metadata": {},
   "outputs": [
    {
     "name": "stdout",
     "output_type": "stream",
     "text": [
      "+-------+----+--------------------+----------------+--------+-------+-----+-----+---------+\n",
      "|tailnum|year|                type|    manufacturer|   model|engines|seats|speed|   engine|\n",
      "+-------+----+--------------------+----------------+--------+-------+-----+-----+---------+\n",
      "| N102UW|1998|Fixed wing multi ...|AIRBUS INDUSTRIE|A320-214|      2|  182|   NA|Turbo-fan|\n",
      "| N103US|1999|Fixed wing multi ...|AIRBUS INDUSTRIE|A320-214|      2|  182|   NA|Turbo-fan|\n",
      "| N104UW|1999|Fixed wing multi ...|AIRBUS INDUSTRIE|A320-214|      2|  182|   NA|Turbo-fan|\n",
      "| N105UW|1999|Fixed wing multi ...|AIRBUS INDUSTRIE|A320-214|      2|  182|   NA|Turbo-fan|\n",
      "| N107US|1999|Fixed wing multi ...|AIRBUS INDUSTRIE|A320-214|      2|  182|   NA|Turbo-fan|\n",
      "+-------+----+--------------------+----------------+--------+-------+-----+-----+---------+\n",
      "only showing top 5 rows\n",
      "\n"
     ]
    }
   ],
   "source": [
    "planes.show(5)"
   ]
  },
  {
   "cell_type": "code",
   "execution_count": 6,
   "metadata": {},
   "outputs": [
    {
     "name": "stdout",
     "output_type": "stream",
     "text": [
      "+----+----+-----+---+--------+---------+--------+---------+-------+-------+------+------+--------+--------+----+------+--------------------+---------+-----------+----+---+---+\n",
      "|dest|year|month|day|dep_time|dep_delay|arr_time|arr_delay|carrier|tailnum|flight|origin|air_time|distance|hour|minute|                name|      lat|        lon| alt| tz|dst|\n",
      "+----+----+-----+---+--------+---------+--------+---------+-------+-------+------+------+--------+--------+----+------+--------------------+---------+-----------+----+---+---+\n",
      "| LAX|2014|   12|  8|     658|       -7|     935|       -5|     VX| N846VA|  1780|   SEA|     132|     954|   6|    58|    Los Angeles Intl|33.942536|-118.408075| 126| -8|  A|\n",
      "| HNL|2014|    1| 22|    1040|        5|    1505|        5|     AS| N559AS|   851|   SEA|     360|    2677|  10|    40|       Honolulu Intl|21.318681|-157.922428|  13|-10|  N|\n",
      "| SFO|2014|    3|  9|    1443|       -2|    1652|        2|     VX| N847VA|   755|   SEA|     111|     679|  14|    43|  San Francisco Intl|37.618972|-122.374889|  13| -8|  A|\n",
      "| SJC|2014|    4|  9|    1705|       45|    1839|       34|     WN| N360SW|   344|   PDX|      83|     569|  17|     5|Norman Y Mineta S...|  37.3626|-121.929022|  62| -8|  A|\n",
      "| BUR|2014|    3|  9|     754|       -1|    1015|        1|     AS| N612AS|   522|   SEA|     127|     937|   7|    54|            Bob Hope|34.200667|-118.358667| 778| -8|  A|\n",
      "| DEN|2014|    1| 15|    1037|        7|    1352|        2|     WN| N646SW|    48|   PDX|     121|     991|  10|    37|         Denver Intl|39.861656|-104.673178|5431| -7|  A|\n",
      "| OAK|2014|    7|  2|     847|       42|    1041|       51|     WN| N422WN|  1520|   PDX|      90|     543|   8|    47|Metropolitan Oakl...|37.721278|-122.220722|   9| -8|  A|\n",
      "| SFO|2014|    5| 12|    1655|       -5|    1842|      -18|     VX| N361VA|   755|   SEA|      98|     679|  16|    55|  San Francisco Intl|37.618972|-122.374889|  13| -8|  A|\n",
      "| SAN|2014|    4| 19|    1236|       -4|    1508|       -7|     AS| N309AS|   490|   SEA|     135|    1050|  12|    36|      San Diego Intl|32.733556|-117.189667|  17| -8|  A|\n",
      "| ORD|2014|   11| 19|    1812|       -3|    2352|       -4|     AS| N564AS|    26|   SEA|     198|    1721|  18|    12|  Chicago Ohare Intl|41.978603| -87.904842| 668| -6|  A|\n",
      "+----+----+-----+---+--------+---------+--------+---------+-------+-------+------+------+--------+--------+----+------+--------------------+---------+-----------+----+---+---+\n",
      "only showing top 10 rows\n",
      "\n"
     ]
    }
   ],
   "source": [
    "airports = airports.withColumnRenamed(\"faa\", \"dest\")\n",
    "flights_with_airports = flights.join(airports, on=\"dest\", how=\"left\")\n",
    "\n",
    "flights_with_airports.show(10)"
   ]
  },
  {
   "cell_type": "code",
   "execution_count": 7,
   "metadata": {},
   "outputs": [
    {
     "name": "stdout",
     "output_type": "stream",
     "text": [
      "+-------+----+-----+---+--------+---------+--------+---------+-------+------+------+----+--------+--------+----+------+----+--------------------+------------+--------+-------+-----+-----+---------+\n",
      "|tailnum|year|month|day|dep_time|dep_delay|arr_time|arr_delay|carrier|flight|origin|dest|air_time|distance|hour|minute|year|                type|manufacturer|   model|engines|seats|speed|   engine|\n",
      "+-------+----+-----+---+--------+---------+--------+---------+-------+------+------+----+--------+--------+----+------+----+--------------------+------------+--------+-------+-----+-----+---------+\n",
      "| N846VA|2014|   12|  8|     658|       -7|     935|       -5|     VX|  1780|   SEA| LAX|     132|     954|   6|    58|2011|Fixed wing multi ...|      AIRBUS|A320-214|      2|  182|   NA|Turbo-fan|\n",
      "| N559AS|2014|    1| 22|    1040|        5|    1505|        5|     AS|   851|   SEA| HNL|     360|    2677|  10|    40|2006|Fixed wing multi ...|      BOEING| 737-890|      2|  149|   NA|Turbo-fan|\n",
      "| N847VA|2014|    3|  9|    1443|       -2|    1652|        2|     VX|   755|   SEA| SFO|     111|     679|  14|    43|2011|Fixed wing multi ...|      AIRBUS|A320-214|      2|  182|   NA|Turbo-fan|\n",
      "| N360SW|2014|    4|  9|    1705|       45|    1839|       34|     WN|   344|   PDX| SJC|      83|     569|  17|     5|1992|Fixed wing multi ...|      BOEING| 737-3H4|      2|  149|   NA|Turbo-fan|\n",
      "| N612AS|2014|    3|  9|     754|       -1|    1015|        1|     AS|   522|   SEA| BUR|     127|     937|   7|    54|1999|Fixed wing multi ...|      BOEING| 737-790|      2|  151|   NA|Turbo-jet|\n",
      "| N646SW|2014|    1| 15|    1037|        7|    1352|        2|     WN|    48|   PDX| DEN|     121|     991|  10|    37|1997|Fixed wing multi ...|      BOEING| 737-3H4|      2|  149|   NA|Turbo-fan|\n",
      "| N422WN|2014|    7|  2|     847|       42|    1041|       51|     WN|  1520|   PDX| OAK|      90|     543|   8|    47|2002|Fixed wing multi ...|      BOEING| 737-7H4|      2|  140|   NA|Turbo-fan|\n",
      "| N361VA|2014|    5| 12|    1655|       -5|    1842|      -18|     VX|   755|   SEA| SFO|      98|     679|  16|    55|2013|Fixed wing multi ...|      AIRBUS|A320-214|      2|  182|   NA|Turbo-fan|\n",
      "| N309AS|2014|    4| 19|    1236|       -4|    1508|       -7|     AS|   490|   SEA| SAN|     135|    1050|  12|    36|2001|Fixed wing multi ...|      BOEING| 737-990|      2|  149|   NA|Turbo-jet|\n",
      "| N564AS|2014|   11| 19|    1812|       -3|    2352|       -4|     AS|    26|   SEA| ORD|     198|    1721|  18|    12|2006|Fixed wing multi ...|      BOEING| 737-890|      2|  149|   NA|Turbo-fan|\n",
      "+-------+----+-----+---+--------+---------+--------+---------+-------+------+------+----+--------+--------+----+------+----+--------------------+------------+--------+-------+-----+-----+---------+\n",
      "only showing top 10 rows\n",
      "\n"
     ]
    }
   ],
   "source": [
    "flights_with_planes = flights.join(planes, on=\"tailnum\", how=\"left\")\n",
    "flights_with_planes.show(10)"
   ]
  },
  {
   "cell_type": "markdown",
   "metadata": {},
   "source": [
    "## Filtering"
   ]
  },
  {
   "cell_type": "markdown",
   "metadata": {},
   "source": [
    "### Filtering with SQL-like Query"
   ]
  },
  {
   "cell_type": "code",
   "execution_count": 8,
   "metadata": {},
   "outputs": [
    {
     "name": "stdout",
     "output_type": "stream",
     "text": [
      "+------+----+--------+\n",
      "|origin|dest|distance|\n",
      "+------+----+--------+\n",
      "|   SEA| LAX|     954|\n",
      "|   SEA| SFO|     679|\n",
      "|   SEA| SFO|     679|\n",
      "|   SEA| PHL|    2378|\n",
      "|   SEA| OGG|    2640|\n",
      "|   SEA| LGB|     965|\n",
      "|   SEA| ANC|    1448|\n",
      "|   PDX| DEN|     991|\n",
      "|   PDX| PHX|    1009|\n",
      "|   PDX| HNL|    2603|\n",
      "|   SEA| DEN|    1024|\n",
      "|   SEA| LAX|     954|\n",
      "|   SEA| DEN|    1024|\n",
      "|   SEA| LAX|     954|\n",
      "|   PDX| LGB|     846|\n",
      "|   SEA| JFK|    2422|\n",
      "|   PDX| DEN|     991|\n",
      "|   SEA| CLT|    2279|\n",
      "|   SEA| SFO|     679|\n",
      "|   PDX| PHX|    1009|\n",
      "+------+----+--------+\n",
      "only showing top 20 rows\n",
      "\n"
     ]
    }
   ],
   "source": [
    "# Show flights origin, dest, distance where manufacturer is AIRBUS\n",
    "flights_with_planes.select('origin', 'dest', 'distance').filter(\"manufacturer == 'AIRBUS'\").show()"
   ]
  },
  {
   "cell_type": "markdown",
   "metadata": {},
   "source": [
    "### Filtering with PySPark functions"
   ]
  },
  {
   "cell_type": "code",
   "execution_count": 9,
   "metadata": {},
   "outputs": [
    {
     "name": "stdout",
     "output_type": "stream",
     "text": [
      "+------+----+--------+\n",
      "|origin|dest|distance|\n",
      "+------+----+--------+\n",
      "|   SEA| HNL|    2677|\n",
      "|   SEA| SAN|    1050|\n",
      "|   SEA| ORD|    1721|\n",
      "|   SEA| PHX|    1107|\n",
      "|   SEA| ANC|    1448|\n",
      "|   SEA| MDW|    1733|\n",
      "|   SEA| BOS|    2496|\n",
      "|   SEA| PHL|    2378|\n",
      "|   SEA| OGG|    2640|\n",
      "|   SEA| SAN|    1050|\n",
      "|   SEA| ANC|    1448|\n",
      "|   SEA| LIH|    2701|\n",
      "|   SEA| MCO|    2554|\n",
      "|   SEA| ATL|    2182|\n",
      "|   SEA| ANC|    1448|\n",
      "|   SEA| ABQ|    1180|\n",
      "|   SEA| IAH|    1874|\n",
      "|   SEA| PHX|    1107|\n",
      "|   SEA| PHX|    1107|\n",
      "|   SEA| TUS|    1216|\n",
      "+------+----+--------+\n",
      "only showing top 20 rows\n",
      "\n"
     ]
    }
   ],
   "source": [
    "# Show flights origin, dest, distance where origin is SEA and distance > 1000\n",
    "from pyspark.sql import functions as F\n",
    "flights_with_planes.select('origin', 'dest', 'distance').filter(\n",
    "    (F.col(\"origin\") == 'SEA') &\n",
    "    (F.col(\"distance\") > 1000)   \n",
    ").show()"
   ]
  },
  {
   "cell_type": "code",
   "execution_count": 10,
   "metadata": {},
   "outputs": [],
   "source": [
    "# Or we can use variable to save the data\n",
    "flights_from_sea_1k = flights_with_planes.select('origin', 'dest', 'distance').filter(\n",
    "    (F.col(\"origin\") == 'SEA') &\n",
    "    (F.col(\"distance\") > 1000)   \n",
    ")"
   ]
  },
  {
   "cell_type": "code",
   "execution_count": 11,
   "metadata": {},
   "outputs": [
    {
     "name": "stdout",
     "output_type": "stream",
     "text": [
      "+------+----+--------+\n",
      "|origin|dest|distance|\n",
      "+------+----+--------+\n",
      "|   SEA| HNL|    2677|\n",
      "|   SEA| SAN|    1050|\n",
      "|   SEA| ORD|    1721|\n",
      "|   SEA| PHX|    1107|\n",
      "|   SEA| ANC|    1448|\n",
      "|   SEA| MDW|    1733|\n",
      "|   SEA| BOS|    2496|\n",
      "|   SEA| PHL|    2378|\n",
      "|   SEA| OGG|    2640|\n",
      "|   SEA| SAN|    1050|\n",
      "|   SEA| ANC|    1448|\n",
      "|   SEA| LIH|    2701|\n",
      "|   SEA| MCO|    2554|\n",
      "|   SEA| ATL|    2182|\n",
      "|   SEA| ANC|    1448|\n",
      "|   SEA| ABQ|    1180|\n",
      "|   SEA| IAH|    1874|\n",
      "|   SEA| PHX|    1107|\n",
      "|   SEA| PHX|    1107|\n",
      "|   SEA| TUS|    1216|\n",
      "+------+----+--------+\n",
      "only showing top 20 rows\n",
      "\n"
     ]
    }
   ],
   "source": [
    "flights_from_sea_1k.show()"
   ]
  },
  {
   "cell_type": "code",
   "execution_count": 12,
   "metadata": {},
   "outputs": [
    {
     "data": {
      "text/plain": [
       "3671"
      ]
     },
     "execution_count": 12,
     "metadata": {},
     "output_type": "execute_result"
    }
   ],
   "source": [
    "flights_from_sea_1k.count()"
   ]
  },
  {
   "cell_type": "markdown",
   "metadata": {},
   "source": [
    "## Grouping and Aggregation"
   ]
  },
  {
   "cell_type": "code",
   "execution_count": 13,
   "metadata": {},
   "outputs": [
    {
     "name": "stdout",
     "output_type": "stream",
     "text": [
      "+--------------------+------------------+\n",
      "|        manufacturer|          avg_dist|\n",
      "+--------------------+------------------+\n",
      "|       BARKER JACK L|             965.0|\n",
      "|    AIRBUS INDUSTRIE|1318.1736204576043|\n",
      "|ROBINSON HELICOPT...| 925.3333333333334|\n",
      "|                null|1621.9420289855072|\n",
      "|              BOEING| 1245.056006006006|\n",
      "|             EMBRAER|127.29304029304029|\n",
      "|  CIRRUS DESIGN CORP|            1693.5|\n",
      "|              CESSNA|            1616.0|\n",
      "|      BOMBARDIER INC| 749.3497206703911|\n",
      "|                BELL|            1616.0|\n",
      "|   MCDONNELL DOUGLAS| 1554.787234042553|\n",
      "|            CANADAIR|            731.25|\n",
      "|              AIRBUS|1375.0628853267572|\n",
      "+--------------------+------------------+\n",
      "\n"
     ]
    }
   ],
   "source": [
    "# Select average distance for each manufacturer\n",
    "flights_with_planes.groupBy(\"manufacturer\").agg(\n",
    "    F.avg(\"distance\").alias(\"avg_dist\")\n",
    ").show()"
   ]
  },
  {
   "cell_type": "code",
   "execution_count": 14,
   "metadata": {},
   "outputs": [
    {
     "name": "stdout",
     "output_type": "stream",
     "text": [
      "+--------------------+------------------+\n",
      "|        manufacturer|          avg_dist|\n",
      "+--------------------+------------------+\n",
      "|       BARKER JACK L|             965.0|\n",
      "|    AIRBUS INDUSTRIE|1318.1736204576043|\n",
      "|ROBINSON HELICOPT...| 925.3333333333334|\n",
      "|              BOEING| 1245.056006006006|\n",
      "|             EMBRAER|127.29304029304029|\n",
      "|  CIRRUS DESIGN CORP|            1693.5|\n",
      "|              CESSNA|            1616.0|\n",
      "|      BOMBARDIER INC| 749.3497206703911|\n",
      "|                BELL|            1616.0|\n",
      "|   MCDONNELL DOUGLAS| 1554.787234042553|\n",
      "|            CANADAIR|            731.25|\n",
      "|              AIRBUS|1375.0628853267572|\n",
      "+--------------------+------------------+\n",
      "\n"
     ]
    }
   ],
   "source": [
    "# It seemed that the dataset in not properly cleaned, there are null value for manufacturer\n",
    "# Lets filter it out\n",
    "flights_with_planes.filter(\"manufacturer is not null\").groupBy(\"manufacturer\").agg(\n",
    "    F.avg(\"distance\").alias(\"avg_dist\")\n",
    ").show()"
   ]
  },
  {
   "cell_type": "markdown",
   "metadata": {},
   "source": [
    "## Sorting data with OrderBy"
   ]
  },
  {
   "cell_type": "code",
   "execution_count": 15,
   "metadata": {},
   "outputs": [
    {
     "name": "stdout",
     "output_type": "stream",
     "text": [
      "+--------------------+------------------+\n",
      "|        manufacturer|          avg_dist|\n",
      "+--------------------+------------------+\n",
      "|  CIRRUS DESIGN CORP|            1693.5|\n",
      "|              CESSNA|            1616.0|\n",
      "|                BELL|            1616.0|\n",
      "|   MCDONNELL DOUGLAS| 1554.787234042553|\n",
      "|              AIRBUS|1375.0628853267572|\n",
      "|    AIRBUS INDUSTRIE|1318.1736204576043|\n",
      "|              BOEING| 1245.056006006006|\n",
      "|       BARKER JACK L|             965.0|\n",
      "|ROBINSON HELICOPT...| 925.3333333333334|\n",
      "|      BOMBARDIER INC| 749.3497206703911|\n",
      "|            CANADAIR|            731.25|\n",
      "|             EMBRAER|127.29304029304029|\n",
      "+--------------------+------------------+\n",
      "\n"
     ]
    }
   ],
   "source": [
    "flights_with_planes.filter(\"manufacturer is not null\").groupBy(\"manufacturer\").agg(\n",
    "    F.avg(\"distance\").alias(\"avg_dist\")\n",
    ").orderBy(\n",
    "    F.col(\"avg_dist\"), ascending=False\n",
    ").show()"
   ]
  },
  {
   "cell_type": "code",
   "execution_count": null,
   "metadata": {},
   "outputs": [],
   "source": []
  }
 ],
 "metadata": {
  "kernelspec": {
   "display_name": "Python 3.7.6 ('base')",
   "language": "python",
   "name": "python3"
  },
  "language_info": {
   "codemirror_mode": {
    "name": "ipython",
    "version": 3
   },
   "file_extension": ".py",
   "mimetype": "text/x-python",
   "name": "python",
   "nbconvert_exporter": "python",
   "pygments_lexer": "ipython3",
   "version": "3.7.6"
  },
  "orig_nbformat": 4,
  "vscode": {
   "interpreter": {
    "hash": "5bc067213193d7d391907c464a8e66c6ece1a82666c1d2406921e2c8deb6cf3c"
   }
  }
 },
 "nbformat": 4,
 "nbformat_minor": 2
}
